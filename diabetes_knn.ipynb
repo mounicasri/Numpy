{
 "cells": [
  {
   "cell_type": "code",
   "execution_count": 1,
   "metadata": {},
   "outputs": [],
   "source": [
    "from sklearn import datasets"
   ]
  },
  {
   "cell_type": "code",
   "execution_count": 2,
   "metadata": {},
   "outputs": [],
   "source": [
    "diabetes_data = datasets.load_diabetes()"
   ]
  },
  {
   "cell_type": "code",
   "execution_count": 3,
   "metadata": {},
   "outputs": [
    {
     "data": {
      "text/plain": [
       "dict_keys(['data', 'target', 'DESCR', 'feature_names', 'data_filename', 'target_filename'])"
      ]
     },
     "execution_count": 3,
     "metadata": {},
     "output_type": "execute_result"
    }
   ],
   "source": [
    "diabetes_data.keys()"
   ]
  },
  {
   "cell_type": "code",
   "execution_count": 4,
   "metadata": {},
   "outputs": [
    {
     "data": {
      "text/plain": [
       "array([[ 0.03807591,  0.05068012,  0.06169621,  0.02187235, -0.0442235 ,\n",
       "        -0.03482076, -0.04340085, -0.00259226,  0.01990842, -0.01764613],\n",
       "       [-0.00188202, -0.04464164, -0.05147406, -0.02632783, -0.00844872,\n",
       "        -0.01916334,  0.07441156, -0.03949338, -0.06832974, -0.09220405],\n",
       "       [ 0.08529891,  0.05068012,  0.04445121, -0.00567061, -0.04559945,\n",
       "        -0.03419447, -0.03235593, -0.00259226,  0.00286377, -0.02593034],\n",
       "       [-0.08906294, -0.04464164, -0.01159501, -0.03665645,  0.01219057,\n",
       "         0.02499059, -0.03603757,  0.03430886,  0.02269202, -0.00936191],\n",
       "       [ 0.00538306, -0.04464164, -0.03638469,  0.02187235,  0.00393485,\n",
       "         0.01559614,  0.00814208, -0.00259226, -0.03199144, -0.04664087]])"
      ]
     },
     "execution_count": 4,
     "metadata": {},
     "output_type": "execute_result"
    }
   ],
   "source": [
    "diabetes_features = diabetes_data['data']\n",
    "diabetes_features[0:5]"
   ]
  },
  {
   "cell_type": "code",
   "execution_count": 6,
   "metadata": {},
   "outputs": [
    {
     "data": {
      "text/plain": [
       "array([151.,  75., 141., 206., 135.])"
      ]
     },
     "execution_count": 6,
     "metadata": {},
     "output_type": "execute_result"
    }
   ],
   "source": [
    "diabetes_target = diabetes_data['target']\n",
    "diabetes_target[0:5]"
   ]
  },
  {
   "cell_type": "code",
   "execution_count": 7,
   "metadata": {},
   "outputs": [],
   "source": [
    "from sklearn.model_selection import train_test_split"
   ]
  },
  {
   "cell_type": "code",
   "execution_count": 9,
   "metadata": {},
   "outputs": [
    {
     "data": {
      "text/plain": [
       "(309, 309, 133, 133)"
      ]
     },
     "execution_count": 9,
     "metadata": {},
     "output_type": "execute_result"
    }
   ],
   "source": [
    "X_train,X_test,y_train,y_test = train_test_split(diabetes_features,diabetes_target,test_size=0.3,random_state=42)\n",
    "len(X_train),len(y_train),len(X_test),len(y_test)"
   ]
  },
  {
   "cell_type": "code",
   "execution_count": 12,
   "metadata": {},
   "outputs": [],
   "source": [
    "from sklearn.neighbors import KNeighborsClassifier\n",
    "from sklearn.model_selection import GridSearchCV\n",
    "import numpy as np"
   ]
  },
  {
   "cell_type": "code",
   "execution_count": 20,
   "metadata": {},
   "outputs": [],
   "source": [
    "diabetes_model = KNeighborsClassifier()\n",
    "param_grid={'weights':['uniform','distance'],\n",
    "           'algorithm':['ball_tree','kd_tree','brute'],\n",
    "           'n_neighbors':[3,5,7,9]}"
   ]
  },
  {
   "cell_type": "code",
   "execution_count": 21,
   "metadata": {},
   "outputs": [],
   "source": [
    "grid_model = GridSearchCV(diabetes_model,param_grid,cv=3)"
   ]
  },
  {
   "cell_type": "code",
   "execution_count": 22,
   "metadata": {},
   "outputs": [
    {
     "name": "stderr",
     "output_type": "stream",
     "text": [
      "C:\\Users\\Ganesh\\Anaconda3\\lib\\site-packages\\sklearn\\model_selection\\_split.py:652: Warning: The least populated class in y has only 1 members, which is too few. The minimum number of members in any class cannot be less than n_splits=3.\n",
      "  % (min_groups, self.n_splits)), Warning)\n",
      "C:\\Users\\Ganesh\\Anaconda3\\lib\\site-packages\\sklearn\\model_selection\\_search.py:841: DeprecationWarning: The default of the `iid` parameter will change from True to False in version 0.22 and will be removed in 0.24. This will change numeric results when test-set sizes are unequal.\n",
      "  DeprecationWarning)\n"
     ]
    }
   ],
   "source": [
    "knngrid=grid_model.fit(X_train,y_train)"
   ]
  },
  {
   "cell_type": "code",
   "execution_count": 24,
   "metadata": {},
   "outputs": [
    {
     "data": {
      "text/plain": [
       "0.012944983818770227"
      ]
     },
     "execution_count": 24,
     "metadata": {},
     "output_type": "execute_result"
    }
   ],
   "source": [
    "knngrid.best_score_"
   ]
  },
  {
   "cell_type": "code",
   "execution_count": 25,
   "metadata": {},
   "outputs": [
    {
     "data": {
      "text/plain": [
       "KNeighborsClassifier(algorithm='ball_tree', leaf_size=30, metric='minkowski',\n",
       "           metric_params=None, n_jobs=None, n_neighbors=3, p=2,\n",
       "           weights='distance')"
      ]
     },
     "execution_count": 25,
     "metadata": {},
     "output_type": "execute_result"
    }
   ],
   "source": [
    "knngrid.best_estimator_"
   ]
  },
  {
   "cell_type": "code",
   "execution_count": 27,
   "metadata": {},
   "outputs": [],
   "source": [
    "knn_best = knngrid.best_estimator_"
   ]
  },
  {
   "cell_type": "code",
   "execution_count": 37,
   "metadata": {},
   "outputs": [],
   "source": [
    "y_pred=knn_best.predict(X_test)"
   ]
  },
  {
   "cell_type": "code",
   "execution_count": 38,
   "metadata": {},
   "outputs": [
    {
     "data": {
      "text/plain": [
       "0.015037593984962405"
      ]
     },
     "execution_count": 38,
     "metadata": {},
     "output_type": "execute_result"
    }
   ],
   "source": [
    "from sklearn.metrics import accuracy_score\n",
    "accuracy_score(y_test,y_pred)"
   ]
  },
  {
   "cell_type": "code",
   "execution_count": 39,
   "metadata": {},
   "outputs": [
    {
     "data": {
      "text/plain": [
       "array([[0, 0, 0, ..., 0, 0, 0],\n",
       "       [0, 0, 0, ..., 0, 0, 0],\n",
       "       [0, 0, 0, ..., 0, 0, 0],\n",
       "       ...,\n",
       "       [0, 0, 0, ..., 0, 0, 0],\n",
       "       [0, 0, 0, ..., 0, 0, 0],\n",
       "       [0, 0, 0, ..., 0, 0, 0]], dtype=int64)"
      ]
     },
     "execution_count": 39,
     "metadata": {},
     "output_type": "execute_result"
    }
   ],
   "source": [
    "from sklearn.metrics import confusion_matrix\n",
    "confusion_matrix(y_test,y_pred)"
   ]
  },
  {
   "cell_type": "code",
   "execution_count": 40,
   "metadata": {},
   "outputs": [
    {
     "name": "stderr",
     "output_type": "stream",
     "text": [
      "C:\\Users\\Ganesh\\Anaconda3\\lib\\site-packages\\sklearn\\metrics\\classification.py:1143: UndefinedMetricWarning: Precision and F-score are ill-defined and being set to 0.0 in labels with no predicted samples.\n",
      "  'precision', 'predicted', average, warn_for)\n",
      "C:\\Users\\Ganesh\\Anaconda3\\lib\\site-packages\\sklearn\\metrics\\classification.py:1145: UndefinedMetricWarning: Recall and F-score are ill-defined and being set to 0.0 in labels with no true samples.\n",
      "  'recall', 'true', average, warn_for)\n"
     ]
    },
    {
     "data": {
      "text/plain": [
       "'              precision    recall  f1-score   support\\n\\n        25.0       0.00      0.00      0.00         0\\n        37.0       0.00      0.00      0.00         1\\n        42.0       0.00      0.00      0.00         1\\n        47.0       0.00      0.00      0.00         0\\n        48.0       0.00      0.00      0.00         2\\n        49.0       0.00      0.00      0.00         0\\n        51.0       0.00      0.00      0.00         0\\n        52.0       0.00      0.00      0.00         3\\n        53.0       0.00      0.00      0.00         1\\n        55.0       0.00      0.00      0.00         0\\n        58.0       0.00      0.00      0.00         0\\n        59.0       0.25      1.00      0.40         1\\n        60.0       0.00      0.00      0.00         2\\n        61.0       0.00      0.00      0.00         2\\n        63.0       0.00      0.00      0.00         3\\n        64.0       0.00      0.00      0.00         1\\n        65.0       0.00      0.00      0.00         1\\n        66.0       0.00      0.00      0.00         0\\n        67.0       0.00      0.00      0.00         1\\n        68.0       0.00      0.00      0.00         1\\n        69.0       0.00      0.00      0.00         1\\n        70.0       0.00      0.00      0.00         1\\n        71.0       0.00      0.00      0.00         1\\n        72.0       0.00      0.00      0.00         4\\n        74.0       0.00      0.00      0.00         0\\n        75.0       0.00      0.00      0.00         0\\n        77.0       0.00      0.00      0.00         1\\n        78.0       0.00      0.00      0.00         0\\n        80.0       0.00      0.00      0.00         0\\n        83.0       0.00      0.00      0.00         0\\n        84.0       0.00      0.00      0.00         2\\n        85.0       0.00      0.00      0.00         0\\n        87.0       0.00      0.00      0.00         1\\n        88.0       0.00      0.00      0.00         1\\n        89.0       0.00      0.00      0.00         1\\n        90.0       0.00      0.00      0.00         4\\n        91.0       0.00      0.00      0.00         1\\n        93.0       0.00      0.00      0.00         1\\n        94.0       0.00      0.00      0.00         2\\n        95.0       0.00      0.00      0.00         1\\n        96.0       0.00      0.00      0.00         2\\n        97.0       0.00      0.00      0.00         2\\n        98.0       0.00      0.00      0.00         1\\n        99.0       0.00      0.00      0.00         1\\n       101.0       0.00      0.00      0.00         2\\n       102.0       0.00      0.00      0.00         2\\n       103.0       0.00      0.00      0.00         0\\n       104.0       0.00      0.00      0.00         1\\n       107.0       0.00      0.00      0.00         1\\n       108.0       0.00      0.00      0.00         1\\n       110.0       0.00      0.00      0.00         1\\n       111.0       0.00      0.00      0.00         1\\n       113.0       0.00      0.00      0.00         1\\n       114.0       0.00      0.00      0.00         0\\n       115.0       0.00      0.00      0.00         0\\n       118.0       0.00      0.00      0.00         1\\n       121.0       0.00      0.00      0.00         1\\n       122.0       0.00      0.00      0.00         1\\n       123.0       0.00      0.00      0.00         0\\n       125.0       0.00      0.00      0.00         1\\n       126.0       0.00      0.00      0.00         0\\n       127.0       0.00      0.00      0.00         0\\n       128.0       0.00      0.00      0.00         2\\n       129.0       0.00      0.00      0.00         2\\n       131.0       0.00      0.00      0.00         0\\n       132.0       0.00      0.00      0.00         1\\n       134.0       0.00      0.00      0.00         0\\n       135.0       0.00      0.00      0.00         1\\n       136.0       0.00      0.00      0.00         1\\n       137.0       0.00      0.00      0.00         1\\n       138.0       0.00      0.00      0.00         0\\n       139.0       0.00      0.00      0.00         0\\n       140.0       0.00      0.00      0.00         2\\n       141.0       0.00      0.00      0.00         0\\n       142.0       0.00      0.00      0.00         0\\n       143.0       0.00      0.00      0.00         0\\n       144.0       0.00      0.00      0.00         1\\n       147.0       0.00      0.00      0.00         0\\n       148.0       0.00      0.00      0.00         0\\n       150.0       0.00      0.00      0.00         1\\n       151.0       0.00      0.00      0.00         1\\n       153.0       0.00      0.00      0.00         1\\n       155.0       0.00      0.00      0.00         0\\n       156.0       0.00      0.00      0.00         1\\n       158.0       0.00      0.00      0.00         1\\n       163.0       0.00      0.00      0.00         0\\n       164.0       0.00      0.00      0.00         1\\n       166.0       0.00      0.00      0.00         1\\n       167.0       0.00      0.00      0.00         1\\n       168.0       0.00      0.00      0.00         2\\n       170.0       0.00      0.00      0.00         1\\n       171.0       0.00      0.00      0.00         1\\n       172.0       0.00      0.00      0.00         1\\n       173.0       0.00      0.00      0.00         1\\n       174.0       0.00      0.00      0.00         1\\n       177.0       0.00      0.00      0.00         0\\n       178.0       0.00      0.00      0.00         1\\n       180.0       0.00      0.00      0.00         1\\n       181.0       0.00      0.00      0.00         1\\n       182.0       0.00      0.00      0.00         0\\n       184.0       0.00      0.00      0.00         1\\n       185.0       0.00      0.00      0.00         0\\n       186.0       0.00      0.00      0.00         1\\n       187.0       0.00      0.00      0.00         1\\n       189.0       0.00      0.00      0.00         1\\n       190.0       0.00      0.00      0.00         1\\n       195.0       0.00      0.00      0.00         0\\n       197.0       0.00      0.00      0.00         1\\n       200.0       0.00      0.00      0.00         1\\n       202.0       0.00      0.00      0.00         2\\n       206.0       0.00      0.00      0.00         1\\n       208.0       0.00      0.00      0.00         0\\n       210.0       0.00      0.00      0.00         0\\n       212.0       0.00      0.00      0.00         0\\n       214.0       0.00      0.00      0.00         1\\n       219.0       0.00      0.00      0.00         1\\n       220.0       0.00      0.00      0.00         2\\n       222.0       0.00      0.00      0.00         1\\n       225.0       0.00      0.00      0.00         0\\n       230.0       0.00      0.00      0.00         1\\n       232.0       0.00      0.00      0.00         2\\n       233.0       0.00      0.00      0.00         2\\n       235.0       0.00      0.00      0.00         0\\n       236.0       0.00      0.00      0.00         0\\n       237.0       0.00      0.00      0.00         1\\n       242.0       0.00      0.00      0.00         2\\n       248.0       0.00      0.00      0.00         1\\n       249.0       0.00      0.00      0.00         0\\n       252.0       0.00      0.00      0.00         1\\n       257.0       0.00      0.00      0.00         1\\n       258.0       0.00      0.00      0.00         1\\n       262.0       0.00      0.00      0.00         1\\n       263.0       0.00      0.00      0.00         1\\n       264.0       0.00      0.00      0.00         1\\n       265.0       0.00      0.00      0.00         1\\n       268.0       0.00      0.00      0.00         0\\n       270.0       0.00      0.00      0.00         1\\n       272.0       0.00      0.00      0.00         1\\n       275.0       1.00      1.00      1.00         1\\n       277.0       0.00      0.00      0.00         1\\n       280.0       0.00      0.00      0.00         1\\n       281.0       0.00      0.00      0.00         2\\n       283.0       0.00      0.00      0.00         1\\n       293.0       0.00      0.00      0.00         0\\n       295.0       0.00      0.00      0.00         1\\n       296.0       0.00      0.00      0.00         0\\n       297.0       0.00      0.00      0.00         1\\n       310.0       0.00      0.00      0.00         1\\n       311.0       0.00      0.00      0.00         0\\n       332.0       0.00      0.00      0.00         0\\n\\n   micro avg       0.02      0.02      0.02       133\\n   macro avg       0.01      0.01      0.01       133\\nweighted avg       0.01      0.02      0.01       133\\n'"
      ]
     },
     "execution_count": 40,
     "metadata": {},
     "output_type": "execute_result"
    }
   ],
   "source": [
    "from sklearn.metrics import classification_report\n",
    "classification_report(y_test,y_pred)"
   ]
  },
  {
   "cell_type": "code",
   "execution_count": null,
   "metadata": {},
   "outputs": [],
   "source": []
  }
 ],
 "metadata": {
  "kernelspec": {
   "display_name": "Python 3",
   "language": "python",
   "name": "python3"
  },
  "language_info": {
   "codemirror_mode": {
    "name": "ipython",
    "version": 3
   },
   "file_extension": ".py",
   "mimetype": "text/x-python",
   "name": "python",
   "nbconvert_exporter": "python",
   "pygments_lexer": "ipython3",
   "version": "3.7.3"
  }
 },
 "nbformat": 4,
 "nbformat_minor": 2
}
